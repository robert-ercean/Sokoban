{
 "cells": [
  {
   "cell_type": "markdown",
   "id": "32f0c8bb",
   "metadata": {},
   "source": [
    "## Inteligență Artificială  Tema 1 - 2025: Sokoban\n",
    "\n",
    "Responsabili:\n",
    "- Andrei Olaru\n",
    "- Cătălin Chiru\n",
    "- Andrei Dugăeșescu\n",
    "- Mihai Nan\n",
    "- Vlad Matei Drăghici\n",
    "- Alexandru Baciu\n",
    "- Bogdan-Andrei Sprîncenatu"
   ]
  },
  {
   "cell_type": "code",
   "execution_count": 1,
   "id": "5e0717ff",
   "metadata": {},
   "outputs": [],
   "source": [
    "from sokoban import Map, save_images, create_gif\n",
    "import time"
   ]
  },
  {
   "cell_type": "markdown",
   "id": "a0445a9e",
   "metadata": {},
   "source": [
    "# Creating a map "
   ]
  },
  {
   "cell_type": "code",
   "execution_count": 2,
   "id": "56d9cf8e",
   "metadata": {},
   "outputs": [],
   "source": [
    "# Maps can be created using the Map class\n",
    "map_from_init = Map(5, 5, 0, 0, [('box1', 1, 3)], [(4, 4)], [(3,3), (3,4), (3,1)], 'easy_map1')\n",
    "\n",
    "# Maps can be created through yaml files\n",
    "map_from_yaml = Map.from_yaml('tests/easy_map1.yaml')\n",
    "\n",
    "assert str(map_from_init) == str(map_from_yaml), \"Reading from yaml file Failed\""
   ]
  },
  {
   "cell_type": "code",
   "execution_count": 3,
   "id": "0491ba00",
   "metadata": {},
   "outputs": [],
   "source": [
    "# Maps can also be created from their string representation\n",
    "map_str = str(map_from_init)\n",
    "map_from_str = Map.from_str(map_str)\n",
    "\n",
    "assert str(map_from_init) == str(map_from_str), \"String conversion Failed\""
   ]
  },
  {
   "cell_type": "markdown",
   "id": "3ca391ef",
   "metadata": {},
   "source": [
    "# Solving a map "
   ]
  },
  {
   "cell_type": "code",
   "execution_count": 4,
   "id": "333bbcbb",
   "metadata": {},
   "outputs": [],
   "source": [
    "map = Map(5, 5, 0, 0, [('box1', 1, 3)], [(4, 4)], [(3,3), (3,4), (3,1)], 'easy_map1')"
   ]
  },
  {
   "cell_type": "markdown",
   "id": "f06ec825",
   "metadata": {},
   "source": [
    "# Visualizing a map "
   ]
  },
  {
   "cell_type": "code",
   "execution_count": 5,
   "id": "a4f65cdd",
   "metadata": {},
   "outputs": [
    {
     "name": "stdout",
     "output_type": "stream",
     "text": [
      "\n",
      "_ _ _ _ X \n",
      "_ / _ / / \n",
      "_ _ _ _ _ \n",
      "_ _ _ B _ \n",
      "P _ _ _ _ \n"
     ]
    }
   ],
   "source": [
    "print(map)"
   ]
  },
  {
   "cell_type": "code",
   "execution_count": 6,
   "id": "eea95b61",
   "metadata": {},
   "outputs": [
    {
     "data": {
      "image/png": "[encoded data removed]",
      "text/plain": [
       "<Figure size 640x480 with 1 Axes>"
      ]
     },
     "metadata": {},
     "output_type": "display_data"
    }
   ],
   "source": [
    "map.plot_map()"
   ]
  },
  {
   "cell_type": "code",
   "execution_count": 7,
   "id": "33236d66",
   "metadata": {},
   "outputs": [],
   "source": [
    "# To save the state of a map to disk:\n",
    "#map.save_map('images', 'easy_map1_init.png')"
   ]
  },
  {
   "cell_type": "markdown",
   "id": "65b75b4e",
   "metadata": {},
   "source": [
    "# Fetching the maps"
   ]
  },
  {
   "cell_type": "code",
   "execution_count": 8,
   "id": "32422a71",
   "metadata": {},
   "outputs": [],
   "source": [
    "\"\"\" Store the maps from the .yaml files, organizing them in a map based on their\n",
    "\tadvertised difficulty level. \n",
    "\tEach key will have a corresponding tuple containing the map object and its name as a string\n",
    "\"\"\"\n",
    "EASY = 'easy'\n",
    "MEDIUM = 'medium'\n",
    "HARD = 'hard'\n",
    "SUPER_HARD = 'super_hard'\n",
    "LARGE = 'large'\n",
    "MAP = 1\n",
    "MAP_NAME = 0\n",
    "\n",
    "maps = {}\n",
    "for difficulty in [EASY, MEDIUM, HARD, SUPER_HARD, LARGE]:\n",
    "\tmaps[difficulty] = []\n",
    "\tfor i in range(1, 3):\n",
    "\t\t# There's only one super_hard map\n",
    "\t\tif difficulty == 'super_hard' and i == 2:\n",
    "\t\t\tcontinue\n",
    "\t\tmap_name = f'{difficulty}_map{str(i)}'\n",
    "\t\tmap_tuple = (map_name, Map.from_yaml(f'tests/{map_name}.yaml'))\n",
    "\t\tmaps[difficulty].append(map_tuple)\n",
    "\n",
    "for difficulty in [EASY, MEDIUM, HARD, SUPER_HARD, LARGE]:\n",
    "\tfor map_tuple in maps[difficulty]:\n",
    "\t\tmap = map_tuple[MAP]\n",
    "\t\t# remove the .yaml extension\n",
    "\t\tmap_name = map_tuple[MAP_NAME].replace('.yaml', '')\n",
    "\t\tmap.save_map('images/init_maps', map_name)"
   ]
  },
  {
   "cell_type": "code",
   "execution_count": 9,
   "id": "58ee99e8",
   "metadata": {},
   "outputs": [
    {
     "name": "stdout",
     "output_type": "stream",
     "text": [
      "#------------------------------------------------------------------------#\n",
      "Goal state found!\n",
      "Explored state: 394\n",
      "Reconstructed solution state size: 20\n",
      "CPU times: total: 93.8 ms\n",
      "Wall time: 93.2 ms\n",
      "Found solution for easy_map1\n",
      "Total pull moves: 0\n",
      "#------------------------------------------------------------------------#\n",
      "Goal state found!\n",
      "Explored state: 183\n",
      "Reconstructed solution state size: 10\n",
      "CPU times: total: 31.2 ms\n",
      "Wall time: 22 ms\n",
      "Found solution for easy_map2\n",
      "Total pull moves: 0\n",
      "#------------------------------------------------------------------------#\n",
      "Goal state found!\n",
      "Explored state: 1726\n",
      "Reconstructed solution state size: 22\n",
      "CPU times: total: 172 ms\n",
      "Wall time: 180 ms\n",
      "Found solution for medium_map1\n",
      "Total pull moves: 0\n",
      "#------------------------------------------------------------------------#\n",
      "Goal state found!\n",
      "Explored state: 3216\n",
      "Reconstructed solution state size: 33\n",
      "CPU times: total: 422 ms\n",
      "Wall time: 426 ms\n",
      "Found solution for medium_map2\n",
      "Total pull moves: 0\n",
      "#------------------------------------------------------------------------#\n",
      "Goal state found!\n",
      "Explored state: 3483\n",
      "Reconstructed solution state size: 39\n",
      "CPU times: total: 500 ms\n",
      "Wall time: 527 ms\n",
      "Found solution for hard_map1\n",
      "Total pull moves: 0\n",
      "#------------------------------------------------------------------------#\n",
      "Goal state found!\n",
      "Explored state: 2870\n",
      "Reconstructed solution state size: 39\n",
      "CPU times: total: 297 ms\n",
      "Wall time: 322 ms\n",
      "Found solution for hard_map2\n",
      "Total pull moves: 0\n",
      "#------------------------------------------------------------------------#\n",
      "Beam search ended after exploring approximately 7349 states. No solution found.\n",
      "CPU times: total: 1.03 s\n",
      "Wall time: 1.02 s\n",
      "Solution not found for super_hard_map1\n",
      "#------------------------------------------------------------------------#\n",
      "Goal state found!\n",
      "Explored state: 2230\n",
      "Reconstructed solution state size: 30\n",
      "CPU times: total: 219 ms\n",
      "Wall time: 220 ms\n",
      "Found solution for large_map1\n",
      "Total pull moves: 0\n",
      "#------------------------------------------------------------------------#\n",
      "Goal state found!\n",
      "Explored state: 5716\n",
      "Reconstructed solution state size: 51\n",
      "CPU times: total: 781 ms\n",
      "Wall time: 757 ms\n",
      "Found solution for large_map2\n",
      "Total pull moves: 0\n",
      "#------------------------------------------------------------------------#\n"
     ]
    }
   ],
   "source": [
    "from search_methods.beam_search import BeamSearch\n",
    "from search_methods.solver import Solver\n",
    "from search_methods.heuristics import min_weight, manhattan\n",
    "\n",
    "def create_steps_images(steps_path, map_name):\n",
    "\t\"\"\" \n",
    "\t\tCreates images for each step in the solution and returns their path\n",
    "\t\"\"\"\n",
    "\tfor i in range(len(steps_path)):\n",
    "\t\tmap = steps_path[i]\n",
    "\t\tmap.save_map(f'images/{map_name}/steps', f'{str(i)}')\n",
    "\treturn f'images/{map_name}/steps'\n",
    "\n",
    "print('#------------------------------------------------------------------------#')\n",
    "\n",
    "for difficulty in [EASY, MEDIUM, HARD, SUPER_HARD, LARGE]:\n",
    "\tfor map_tuple in maps[difficulty]:\n",
    "\t\tbeam_width: int = 100\n",
    "\t\tsolver = BeamSearch(map_tuple[MAP], beam_width, min_weight)\n",
    "\t\t# time the solver\n",
    "\t\t%time solution_path = solver.solve()\n",
    "\t\tif solution_path is not None:\n",
    "\t\t\tprint(f\"Found solution for {map_tuple[MAP_NAME]}\")\n",
    "\t\t\tprint(f'Total pull moves: {str(solution_path[-1].undo_moves)}')\n",
    "\t\t\timages_path = create_steps_images(solution_path, map_tuple[MAP_NAME])\n",
    "\t\t\tgif_save_path = f'images/{map_tuple[MAP_NAME]}'\n",
    "\t\t\tcreate_gif(images_path, 'animated', gif_save_path)\n",
    "\t\telse:\n",
    "\t\t\tprint(f\"Solution not found for {map_tuple[MAP_NAME]}\")\n",
    "\t\tprint('#------------------------------------------------------------------------#')\n",
    "\n"
   ]
  }
 ],
 "metadata": {
  "kernelspec": {
   "display_name": "Python 3",
   "language": "python",
   "name": "python3"
  },
  "language_info": {
   "codemirror_mode": {
    "name": "ipython",
    "version": 3
   },
   "file_extension": ".py",
   "mimetype": "text/x-python",
   "name": "python",
   "nbconvert_exporter": "python",
   "pygments_lexer": "ipython3",
   "version": "3.12.10"
  }
 },
 "nbformat": 4,
 "nbformat_minor": 5
}
